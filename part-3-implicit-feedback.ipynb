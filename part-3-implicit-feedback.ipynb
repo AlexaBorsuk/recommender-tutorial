{
 "cells": [
  {
   "cell_type": "markdown",
   "metadata": {},
   "source": [
    "## Part 3: Building a Recommender System with Implicit Feedback"
   ]
  },
  {
   "cell_type": "code",
   "execution_count": 1,
   "metadata": {},
   "outputs": [],
   "source": [
    "import pandas as pd"
   ]
  },
  {
   "cell_type": "code",
   "execution_count": 2,
   "metadata": {},
   "outputs": [],
   "source": [
    "artists = pd.read_csv(\"data/lastfm/artists.txt\", sep='\\t')\n",
    "\n",
    "data = pd.read_csv(\"data/lastfm/user_artists.txt\", sep='\\t')"
   ]
  },
  {
   "cell_type": "code",
   "execution_count": 4,
   "metadata": {},
   "outputs": [],
   "source": [
    "artist_tags = pd.read_csv(\"data/lastfm/user_taggedartists.txt\", sep='\\t')"
   ]
  },
  {
   "cell_type": "code",
   "execution_count": 5,
   "metadata": {},
   "outputs": [],
   "source": [
    "tags = pd.read_csv(\"data/lastfm/tags.txt\", sep='\\t', encoding='latin-1')"
   ]
  },
  {
   "cell_type": "code",
   "execution_count": 6,
   "metadata": {},
   "outputs": [],
   "source": [
    "artist_tags = artist_tags.merge(tags, on='tagID')"
   ]
  },
  {
   "cell_type": "code",
   "execution_count": 7,
   "metadata": {},
   "outputs": [],
   "source": [
    "artist_tags\n",
    "\n",
    "artist_tags['tags'] = artist_tags.groupby('artistID')['tagValue'].apply(lambda x: list(set(x)))"
   ]
  },
  {
   "cell_type": "markdown",
   "metadata": {},
   "source": [
    "### How many users and artists are in our dataset?"
   ]
  },
  {
   "cell_type": "code",
   "execution_count": 11,
   "metadata": {},
   "outputs": [
    {
     "name": "stdout",
     "output_type": "stream",
     "text": [
      "Number of unique users: 1892\n",
      "Number of unique artists: 17632\n"
     ]
    }
   ],
   "source": [
    "n_users = data['userID'].nunique()\n",
    "n_artists = data['artistID'].nunique()\n",
    "\n",
    "print(f\"Number of unique users: {n_users}\")\n",
    "print(f\"Number of unique artists: {n_artists}\")"
   ]
  },
  {
   "cell_type": "markdown",
   "metadata": {},
   "source": [
    "### How many artists does a user listen to on average?\n",
    "\n",
    "First, we need to figure out how our data is organized."
   ]
  },
  {
   "cell_type": "code",
   "execution_count": 12,
   "metadata": {},
   "outputs": [
    {
     "data": {
      "text/plain": [
       "True    1892\n",
       "Name: artistID, dtype: int64"
      ]
     },
     "execution_count": 12,
     "metadata": {},
     "output_type": "execute_result"
    }
   ],
   "source": [
    "number_of_listens = data.groupby('userID')['artistID'].count()\n",
    "number_of_artists = data.groupby('userID')['artistID'].nunique()\n",
    "\n",
    "(number_of_artists == number_of_listens).value_counts()"
   ]
  },
  {
   "cell_type": "code",
   "execution_count": 13,
   "metadata": {},
   "outputs": [
    {
     "data": {
      "text/plain": [
       "count    1892.000000\n",
       "mean       49.066596\n",
       "std         5.845879\n",
       "min         1.000000\n",
       "25%        50.000000\n",
       "50%        50.000000\n",
       "75%        50.000000\n",
       "max        50.000000\n",
       "Name: n_user_listens, dtype: float64"
      ]
     },
     "execution_count": 13,
     "metadata": {},
     "output_type": "execute_result"
    }
   ],
   "source": [
    "listens_by_user = number_of_listens.reset_index()\n",
    "listens_by_user.columns = ['userID', 'n_user_listens']\n",
    "\n",
    "listens_by_user['n_user_listens'].describe()"
   ]
  },
  {
   "cell_type": "code",
   "execution_count": null,
   "metadata": {},
   "outputs": [],
   "source": []
  },
  {
   "cell_type": "markdown",
   "metadata": {},
   "source": [
    "### How many users listened to a given artist?"
   ]
  },
  {
   "cell_type": "code",
   "execution_count": 14,
   "metadata": {},
   "outputs": [],
   "source": [
    "listens_by_artist = data.groupby('artistID')['userID'].count().reset_index()\n",
    "listens_by_artist.columns = ['artistID', 'n_artist_listens']"
   ]
  },
  {
   "cell_type": "code",
   "execution_count": 16,
   "metadata": {},
   "outputs": [
    {
     "data": {
      "text/plain": [
       "<matplotlib.axes._subplots.AxesSubplot at 0x12f36c750>"
      ]
     },
     "execution_count": 16,
     "metadata": {},
     "output_type": "execute_result"
    },
    {
     "data": {
      "image/png": "[encoded data removed]",
      "text/plain": [
       "<Figure size 432x288 with 1 Axes>"
      ]
     },
     "metadata": {
      "needs_background": "light"
     },
     "output_type": "display_data"
    }
   ],
   "source": [
    "import seaborn as sns\n",
    "sns.boxplot(listens_by_artist['n_artist_listens'])"
   ]
  },
  {
   "cell_type": "code",
   "execution_count": 20,
   "metadata": {},
   "outputs": [
    {
     "name": "stdout",
     "output_type": "stream",
     "text": [
      "Percentage of artists that were only listened once: 60.57%\n",
      "Mean number of listeners for a given artist: 5.27\n",
      "Mean max number of listeners for a given artist: 611\n"
     ]
    }
   ],
   "source": [
    "p_single_listens = (listens_by_artist['n_artist_listens']==1).sum()/listens_by_artist['artistID'].nunique()\n",
    "print(f\"Percentage of artists that were only listened once: {p_single_listens:.2%}\")\n",
    "\n",
    "mean_number_of_listeners = listens_by_artist['n_artist_listens'].mean()\n",
    "print(f\"Mean number of listeners for a given artist: {mean_number_of_listeners:.2f}\")\n",
    "\n",
    "print(f\"Max number of listeners for a given artist: {listens_by_artist['n_artist_listens'].max()}\")"
   ]
  },
  {
   "cell_type": "code",
   "execution_count": null,
   "metadata": {},
   "outputs": [],
   "source": []
  },
  {
   "cell_type": "markdown",
   "metadata": {},
   "source": [
    "### Filtering the data\n",
    "\n",
    "We're going to filter the data to include:\n",
    "\n",
    "- artists that were listened to by 5 or more users \n",
    "- users that listened to 10 or more artists\n"
   ]
  },
  {
   "cell_type": "code",
   "execution_count": 27,
   "metadata": {},
   "outputs": [],
   "source": [
    "artists_with_5_or_more_listens = listens_by_artist[listens_by_artist['n_artist_listens']>=5]\n",
    "users_with_25_or_more_listens = listens_by_user[listens_by_user['n_user_listens']>=25]"
   ]
  },
  {
   "cell_type": "code",
   "execution_count": 65,
   "metadata": {},
   "outputs": [],
   "source": [
    "data_filtered = data.merge(artists_with_5_or_more_listens, how='right').merge(users_with_25_or_more_listens, how='right')\n",
    "\n",
    "data_filtered = data_filtered.dropna(subset=['userID', 'artistID'])"
   ]
  },
  {
   "cell_type": "code",
   "execution_count": 66,
   "metadata": {},
   "outputs": [
    {
     "name": "stdout",
     "output_type": "stream",
     "text": [
      "Original number of user-artist interactions: 92834\n",
      "New number of user-artist interactions: 71241\n",
      "Number of user-artist interactions removed: 21593\n"
     ]
    }
   ],
   "source": [
    "print(f\"Original number of user-artist interactions: {data.shape[0]}\")\n",
    "print(f\"New number of user-artist interactions: {data_filtered.shape[0]}\")\n",
    "print(f\"Number of user-artist interactions removed: {data.shape[0]-data_filtered.shape[0]}\")"
   ]
  },
  {
   "cell_type": "code",
   "execution_count": 72,
   "metadata": {},
   "outputs": [],
   "source": [
    "from scipy.sparse import csr_matrix\n",
    "import numpy as np\n",
    "\n",
    "def create_X(df):\n",
    "    \"\"\"\n",
    "    Generates a sparse matrix from ratings dataframe.\n",
    "    \n",
    "    Args:\n",
    "        df: pandas dataframe\n",
    "    \n",
    "    Returns:\n",
    "        X: sparse matrix\n",
    "        user_mapper: dict that maps user id's to user indices\n",
    "        user_inv_mapper: dict that maps user indices to user id's\n",
    "        movie_mapper: dict that maps movie id's to movie indices\n",
    "        movie_inv_mapper: dict that maps movie indices to movie id's\n",
    "    \"\"\"\n",
    "    N = df['userID'].nunique()\n",
    "    M = df['artistID'].nunique()\n",
    "    \n",
    "    user_col = df[\"userID\"]\n",
    "    item_col = df[\"artistID\"]\n",
    "    \n",
    "    user_mapper = dict(zip(np.unique(user_col), list(range(N))))\n",
    "    movie_mapper = dict(zip(np.unique(item_col), list(range(M))))\n",
    "    \n",
    "    user_inv_mapper = dict(zip(list(range(N)), np.unique(df[\"userID\"])))\n",
    "    movie_inv_mapper = dict(zip(list(range(M)), np.unique(df[\"artistID\"])))\n",
    "    \n",
    "    user_index = [user_mapper[i] for i in df['userID']]\n",
    "    movie_index = [movie_mapper[i] for i in df['artistID']]\n",
    "\n",
    "    X = csr_matrix((df[\"weight\"], (movie_index, user_index)), shape=(M, N))\n",
    "    \n",
    "    return X, user_mapper, movie_mapper, user_inv_mapper, movie_inv_mapper"
   ]
  },
  {
   "cell_type": "code",
   "execution_count": 74,
   "metadata": {},
   "outputs": [],
   "source": [
    "X, user_mapper, movie_mapper, user_inv_mapper, movie_inv_mapper = create_X(data_filtered)"
   ]
  },
  {
   "cell_type": "code",
   "execution_count": 75,
   "metadata": {},
   "outputs": [
    {
     "data": {
      "text/plain": [
       "(2828, 1856)"
      ]
     },
     "execution_count": 75,
     "metadata": {},
     "output_type": "execute_result"
    }
   ],
   "source": [
    "X.shape"
   ]
  },
  {
   "cell_type": "code",
   "execution_count": null,
   "metadata": {},
   "outputs": [],
   "source": [
    "# from implicit.als import AlternatingLeastSquares\n",
    "\n",
    "# model = AlternatingLeastSquares(factors=50)\n",
    "\n",
    "# train the model on a sparse matrix of item/user/confidence weights\n",
    "# model.fit(X)\n",
    "\n",
    "import implicit\n",
    "\n",
    "# initialize a model\n",
    "model = implicit.als.AlternatingLeastSquares(factors=50)\n"
   ]
  },
  {
   "cell_type": "code",
   "execution_count": null,
   "metadata": {},
   "outputs": [],
   "source": []
  },
  {
   "cell_type": "code",
   "execution_count": null,
   "metadata": {},
   "outputs": [],
   "source": []
  },
  {
   "cell_type": "code",
   "execution_count": null,
   "metadata": {},
   "outputs": [],
   "source": []
  },
  {
   "cell_type": "code",
   "execution_count": null,
   "metadata": {},
   "outputs": [],
   "source": []
  },
  {
   "cell_type": "code",
   "execution_count": null,
   "metadata": {},
   "outputs": [],
   "source": []
  },
  {
   "cell_type": "code",
   "execution_count": null,
   "metadata": {},
   "outputs": [],
   "source": []
  },
  {
   "cell_type": "code",
   "execution_count": null,
   "metadata": {},
   "outputs": [],
   "source": []
  },
  {
   "cell_type": "code",
   "execution_count": 54,
   "metadata": {},
   "outputs": [],
   "source": [
    "from collections import Counter\n",
    "\n",
    "tag_counts = Counter(t for tags in artist_tags['tags'].dropna() for t in tags)"
   ]
  },
  {
   "cell_type": "code",
   "execution_count": 57,
   "metadata": {},
   "outputs": [
    {
     "data": {
      "text/plain": [
       "[('rock', 2283),\n",
       " ('electronic', 1749),\n",
       " ('alternative', 1743),\n",
       " ('pop', 1739),\n",
       " ('indie', 1537),\n",
       " ('female vocalists', 1395),\n",
       " ('seen live', 1014),\n",
       " ('experimental', 962),\n",
       " ('dance', 942),\n",
       " ('alternative rock', 875),\n",
       " ('singer-songwriter', 872),\n",
       " ('80s', 812),\n",
       " ('ambient', 791),\n",
       " ('90s', 784),\n",
       " ('indie rock', 765),\n",
       " ('electronica', 759),\n",
       " ('chillout', 733),\n",
       " ('instrumental', 682),\n",
       " ('british', 681),\n",
       " ('folk', 664),\n",
       " ('male vocalists', 652),\n",
       " ('metal', 644),\n",
       " ('00s', 642),\n",
       " ('acoustic', 592),\n",
       " ('soundtrack', 590),\n",
       " ('american', 581),\n",
       " ('hip-hop', 566),\n",
       " ('punk', 533),\n",
       " ('hard rock', 500),\n",
       " ('new wave', 488),\n",
       " ('classic rock', 474),\n",
       " ('beautiful', 464),\n",
       " ('indie pop', 462),\n",
       " ('cover', 461),\n",
       " ('mellow', 457),\n",
       " ('awesome', 454),\n",
       " ('jazz', 446),\n",
       " ('70s', 419),\n",
       " ('hardcore', 419),\n",
       " ('electro', 415),\n",
       " ('soul', 405),\n",
       " ('love', 391),\n",
       " ('amazing', 382),\n",
       " ('sexy', 380),\n",
       " ('rnb', 376),\n",
       " ('rap', 374),\n",
       " ('favorites', 373),\n",
       " ('pop rock', 368),\n",
       " ('synthpop', 366),\n",
       " ('industrial', 364)]"
      ]
     },
     "execution_count": 57,
     "metadata": {},
     "output_type": "execute_result"
    }
   ],
   "source": [
    "tag_counts.most_common(50)"
   ]
  },
  {
   "cell_type": "code",
   "execution_count": null,
   "metadata": {},
   "outputs": [],
   "source": []
  }
 ],
 "metadata": {
  "kernelspec": {
   "display_name": "Python 3",
   "language": "python",
   "name": "python3"
  },
  "language_info": {
   "codemirror_mode": {
    "name": "ipython",
    "version": 3
   },
   "file_extension": ".py",
   "mimetype": "text/x-python",
   "name": "python",
   "nbconvert_exporter": "python",
   "pygments_lexer": "ipython3",
   "version": "3.7.6"
  }
 },
 "nbformat": 4,
 "nbformat_minor": 4
}
