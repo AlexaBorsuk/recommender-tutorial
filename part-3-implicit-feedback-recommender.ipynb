{
 "cells": [
  {
   "cell_type": "markdown",
   "metadata": {},
   "source": [
    "## Part 3: Building a Recommender System with Implicit Feedback"
   ]
  },
  {
   "cell_type": "markdown",
   "metadata": {},
   "source": [
    "### Step 1: Import Dependencies\n",
    "\n",
    "> Note: this notebook uses implicit v0.3.6"
   ]
  },
  {
   "cell_type": "code",
   "execution_count": 1,
   "metadata": {},
   "outputs": [],
   "source": [
    "import numpy as np\n",
    "import pandas as pd\n",
    "import implicit\n",
    "\n",
    "import warnings\n",
    "warnings.simplefilter(action='ignore', category=FutureWarning)"
   ]
  },
  {
   "cell_type": "markdown",
   "metadata": {},
   "source": [
    "### Step 2: Load the Data"
   ]
  },
  {
   "cell_type": "code",
   "execution_count": 66,
   "metadata": {},
   "outputs": [],
   "source": [
    "ratings = pd.read_csv(\"https://s3-us-west-2.amazonaws.com/recommender-tutorial/ratings.csv\")\n",
    "movies = pd.read_csv(\"https://s3-us-west-2.amazonaws.com/recommender-tutorial/movies.csv\")"
   ]
  },
  {
   "cell_type": "markdown",
   "metadata": {},
   "source": [
    "### Step 3: Transforming the Data"
   ]
  },
  {
   "cell_type": "code",
   "execution_count": 15,
   "metadata": {},
   "outputs": [],
   "source": [
    "from scipy.sparse import csr_matrix\n",
    "\n",
    "def create_X(df):\n",
    "    \"\"\"\n",
    "    Generates a sparse matrix from ratings dataframe.\n",
    "    \n",
    "    Args:\n",
    "        df: pandas dataframe\n",
    "    \n",
    "    Returns:\n",
    "        X: sparse matrix\n",
    "        user_mapper: dict that maps user id's to user indices\n",
    "        user_inv_mapper: dict that maps user indices to user id's\n",
    "        movie_mapper: dict that maps movie id's to movie indices\n",
    "        movie_inv_mapper: dict that maps movie indices to movie id's\n",
    "    \"\"\"\n",
    "    N = df['userId'].nunique()\n",
    "    M = df['movieId'].nunique()\n",
    "\n",
    "    user_mapper = dict(zip(np.unique(df[\"userId\"]), list(range(N))))\n",
    "    movie_mapper = dict(zip(np.unique(df[\"movieId\"]), list(range(M))))\n",
    "    \n",
    "    user_inv_mapper = dict(zip(list(range(N)), np.unique(df[\"userId\"])))\n",
    "    movie_inv_mapper = dict(zip(list(range(M)), np.unique(df[\"movieId\"])))\n",
    "    \n",
    "    user_index = [user_mapper[i] for i in df['userId']]\n",
    "    movie_index = [movie_mapper[i] for i in df['movieId']]\n",
    "\n",
    "    X = csr_matrix((df[\"rating\"], (movie_index, user_index)), shape=(M, N))\n",
    "    \n",
    "    return X, user_mapper, movie_mapper, user_inv_mapper, movie_inv_mapper"
   ]
  },
  {
   "cell_type": "code",
   "execution_count": 16,
   "metadata": {},
   "outputs": [],
   "source": [
    "X, user_mapper, movie_mapper, user_inv_mapper, movie_inv_mapper = create_X(ratings)"
   ]
  },
  {
   "cell_type": "markdown",
   "metadata": {},
   "source": [
    "#### Creating Movie Title Mappers\n",
    "\n",
    "create helper functions to easily interpret movie titles from movie indices and vice versa. "
   ]
  },
  {
   "cell_type": "code",
   "execution_count": 67,
   "metadata": {},
   "outputs": [],
   "source": [
    "movie_title_mapper = dict(zip(movies['title'], movies['movieId']))\n",
    "movie_title_inv_mapper = dict(zip(movies['movieId'], movies['title']))"
   ]
  },
  {
   "cell_type": "code",
   "execution_count": 68,
   "metadata": {},
   "outputs": [],
   "source": [
    "def get_movie_index(title): \n",
    "    movie_id = movie_title_mapper[title]\n",
    "    movie_idx = movie_mapper[movie_id]\n",
    "    return movie_idx\n",
    "\n",
    "def get_movie_title(movie_idx): \n",
    "    movie_id = movie_inv_mapper[movie_idx]\n",
    "    title = movie_title_inv_mapper[movie_id]\n",
    "    return title "
   ]
  },
  {
   "cell_type": "code",
   "execution_count": 73,
   "metadata": {},
   "outputs": [
    {
     "data": {
      "text/plain": [
       "314"
      ]
     },
     "execution_count": 73,
     "metadata": {},
     "output_type": "execute_result"
    }
   ],
   "source": [
    "get_movie_index('Forrest Gump (1994)')"
   ]
  },
  {
   "cell_type": "code",
   "execution_count": 74,
   "metadata": {},
   "outputs": [
    {
     "data": {
      "text/plain": [
       "'Forrest Gump (1994)'"
      ]
     },
     "execution_count": 74,
     "metadata": {},
     "output_type": "execute_result"
    }
   ],
   "source": [
    "get_movie_title(314)"
   ]
  },
  {
   "cell_type": "markdown",
   "metadata": {},
   "source": [
    "### Step 4: Generating Recommendations"
   ]
  },
  {
   "cell_type": "code",
   "execution_count": 19,
   "metadata": {},
   "outputs": [
    {
     "name": "stderr",
     "output_type": "stream",
     "text": [
      "100%|██████████| 15.0/15 [00:06<00:00,  2.26it/s]\n"
     ]
    }
   ],
   "source": [
    "model = implicit.als.AlternatingLeastSquares(factors=50)\n",
    "model.fit(X)"
   ]
  },
  {
   "cell_type": "code",
   "execution_count": 46,
   "metadata": {},
   "outputs": [],
   "source": []
  },
  {
   "cell_type": "code",
   "execution_count": 47,
   "metadata": {},
   "outputs": [],
   "source": [
    "from fuzzywuzzy import process\n",
    "def movie_finder(title):\n",
    "    all_titles = movies['title'].tolist()\n",
    "    closest_match = process.extractOne(title,all_titles)\n",
    "    return closest_match[0]"
   ]
  },
  {
   "cell_type": "code",
   "execution_count": 62,
   "metadata": {},
   "outputs": [],
   "source": [
    "movie_of_interest = movie_finder('forrest gump')\n",
    "movie_index = get_movie_index(movie_of_interest)\n",
    "\n",
    "related = model.similar_items(movie_index)"
   ]
  },
  {
   "cell_type": "code",
   "execution_count": 65,
   "metadata": {},
   "outputs": [
    {
     "name": "stdout",
     "output_type": "stream",
     "text": [
      "Because you watched Forrest Gump (1994)...\n",
      "Shawshank Redemption, The (1994)\n",
      "Pulp Fiction (1994)\n",
      "Silence of the Lambs, The (1991)\n",
      "Schindler's List (1993)\n",
      "Braveheart (1995)\n",
      "Jurassic Park (1993)\n",
      "Apollo 13 (1995)\n",
      "Seven (a.k.a. Se7en) (1995)\n",
      "Terminator 2: Judgment Day (1991)\n"
     ]
    }
   ],
   "source": [
    "print(f\"Because you watched {movie_of_interest}...\")\n",
    "for r in related:\n",
    "    recommended_title = get_movie_title(r[0])\n",
    "    if recommended_title != movie_of_interest:\n",
    "        print(recommended_title)"
   ]
  },
  {
   "cell_type": "markdown",
   "metadata": {},
   "source": [
    "### Step 5: Generating User-Item Recommendations"
   ]
  },
  {
   "cell_type": "code",
   "execution_count": 140,
   "metadata": {},
   "outputs": [
    {
     "data": {
      "text/html": [
       "<div>\n",
       "<style scoped>\n",
       "    .dataframe tbody tr th:only-of-type {\n",
       "        vertical-align: middle;\n",
       "    }\n",
       "\n",
       "    .dataframe tbody tr th {\n",
       "        vertical-align: top;\n",
       "    }\n",
       "\n",
       "    .dataframe thead th {\n",
       "        text-align: right;\n",
       "    }\n",
       "</style>\n",
       "<table border=\"1\" class=\"dataframe\">\n",
       "  <thead>\n",
       "    <tr style=\"text-align: right;\">\n",
       "      <th></th>\n",
       "      <th>userId</th>\n",
       "      <th>movieId</th>\n",
       "      <th>rating</th>\n",
       "      <th>timestamp</th>\n",
       "      <th>title</th>\n",
       "    </tr>\n",
       "  </thead>\n",
       "  <tbody>\n",
       "    <tr>\n",
       "      <th>22</th>\n",
       "      <td>22</td>\n",
       "      <td>3489</td>\n",
       "      <td>5.0</td>\n",
       "      <td>1268726106</td>\n",
       "      <td>Hook (1991)</td>\n",
       "    </tr>\n",
       "    <tr>\n",
       "      <th>86</th>\n",
       "      <td>22</td>\n",
       "      <td>49272</td>\n",
       "      <td>5.0</td>\n",
       "      <td>1268727326</td>\n",
       "      <td>Casino Royale (2006)</td>\n",
       "    </tr>\n",
       "    <tr>\n",
       "      <th>60</th>\n",
       "      <td>22</td>\n",
       "      <td>7438</td>\n",
       "      <td>5.0</td>\n",
       "      <td>1268726785</td>\n",
       "      <td>Kill Bill: Vol. 2 (2004)</td>\n",
       "    </tr>\n",
       "    <tr>\n",
       "      <th>3</th>\n",
       "      <td>22</td>\n",
       "      <td>318</td>\n",
       "      <td>5.0</td>\n",
       "      <td>1268726193</td>\n",
       "      <td>Shawshank Redemption, The (1994)</td>\n",
       "    </tr>\n",
       "    <tr>\n",
       "      <th>4</th>\n",
       "      <td>22</td>\n",
       "      <td>356</td>\n",
       "      <td>5.0</td>\n",
       "      <td>1268726309</td>\n",
       "      <td>Forrest Gump (1994)</td>\n",
       "    </tr>\n",
       "  </tbody>\n",
       "</table>\n",
       "</div>"
      ],
      "text/plain": [
       "    userId  movieId  rating   timestamp                             title\n",
       "22      22     3489     5.0  1268726106                       Hook (1991)\n",
       "86      22    49272     5.0  1268727326              Casino Royale (2006)\n",
       "60      22     7438     5.0  1268726785          Kill Bill: Vol. 2 (2004)\n",
       "3       22      318     5.0  1268726193  Shawshank Redemption, The (1994)\n",
       "4       22      356     5.0  1268726309               Forrest Gump (1994)"
      ]
     },
     "execution_count": 140,
     "metadata": {},
     "output_type": "execute_result"
    }
   ],
   "source": [
    "user_id = 22\n",
    "\n",
    "user_ratings = ratings[ratings['userId']==user_id].merge(movies[['movieId', 'title']])\n",
    "user_ratings = user_ratings.sort_values('rating', ascending=False)\n",
    "top_5 = user_ratings.head()\n",
    "top_5"
   ]
  },
  {
   "cell_type": "code",
   "execution_count": 141,
   "metadata": {},
   "outputs": [
    {
     "data": {
      "text/html": [
       "<div>\n",
       "<style scoped>\n",
       "    .dataframe tbody tr th:only-of-type {\n",
       "        vertical-align: middle;\n",
       "    }\n",
       "\n",
       "    .dataframe tbody tr th {\n",
       "        vertical-align: top;\n",
       "    }\n",
       "\n",
       "    .dataframe thead th {\n",
       "        text-align: right;\n",
       "    }\n",
       "</style>\n",
       "<table border=\"1\" class=\"dataframe\">\n",
       "  <thead>\n",
       "    <tr style=\"text-align: right;\">\n",
       "      <th></th>\n",
       "      <th>userId</th>\n",
       "      <th>movieId</th>\n",
       "      <th>rating</th>\n",
       "      <th>timestamp</th>\n",
       "      <th>title</th>\n",
       "    </tr>\n",
       "  </thead>\n",
       "  <tbody>\n",
       "    <tr>\n",
       "      <th>78</th>\n",
       "      <td>22</td>\n",
       "      <td>38038</td>\n",
       "      <td>0.5</td>\n",
       "      <td>1268727279</td>\n",
       "      <td>Wallace &amp; Gromit in The Curse of the Were-Rabb...</td>\n",
       "    </tr>\n",
       "    <tr>\n",
       "      <th>81</th>\n",
       "      <td>22</td>\n",
       "      <td>44191</td>\n",
       "      <td>0.5</td>\n",
       "      <td>1268727414</td>\n",
       "      <td>V for Vendetta (2006)</td>\n",
       "    </tr>\n",
       "    <tr>\n",
       "      <th>90</th>\n",
       "      <td>22</td>\n",
       "      <td>53519</td>\n",
       "      <td>0.5</td>\n",
       "      <td>1268727137</td>\n",
       "      <td>Death Proof (2007)</td>\n",
       "    </tr>\n",
       "    <tr>\n",
       "      <th>89</th>\n",
       "      <td>22</td>\n",
       "      <td>52281</td>\n",
       "      <td>0.5</td>\n",
       "      <td>1268726845</td>\n",
       "      <td>Grindhouse (2007)</td>\n",
       "    </tr>\n",
       "    <tr>\n",
       "      <th>118</th>\n",
       "      <td>22</td>\n",
       "      <td>74789</td>\n",
       "      <td>0.5</td>\n",
       "      <td>1268726132</td>\n",
       "      <td>Alice in Wonderland (2010)</td>\n",
       "    </tr>\n",
       "  </tbody>\n",
       "</table>\n",
       "</div>"
      ],
      "text/plain": [
       "     userId  movieId  rating   timestamp  \\\n",
       "78       22    38038     0.5  1268727279   \n",
       "81       22    44191     0.5  1268727414   \n",
       "90       22    53519     0.5  1268727137   \n",
       "89       22    52281     0.5  1268726845   \n",
       "118      22    74789     0.5  1268726132   \n",
       "\n",
       "                                                 title  \n",
       "78   Wallace & Gromit in The Curse of the Were-Rabb...  \n",
       "81                               V for Vendetta (2006)  \n",
       "90                                  Death Proof (2007)  \n",
       "89                                   Grindhouse (2007)  \n",
       "118                         Alice in Wonderland (2010)  "
      ]
     },
     "execution_count": 141,
     "metadata": {},
     "output_type": "execute_result"
    }
   ],
   "source": [
    "bottom_5 = user_ratings[user_ratings['rating']<3].tail()\n",
    "bottom_5"
   ]
  },
  {
   "cell_type": "code",
   "execution_count": 142,
   "metadata": {},
   "outputs": [],
   "source": [
    "user_idx = user_mapper[user_id]"
   ]
  },
  {
   "cell_type": "code",
   "execution_count": 143,
   "metadata": {},
   "outputs": [
    {
     "data": {
      "text/plain": [
       "[(4131, 0.9661345),\n",
       " (3617, 0.8320355),\n",
       " (1938, 0.73343456),\n",
       " (5324, 0.72751635),\n",
       " (4170, 0.7152841),\n",
       " (4153, 0.69513565),\n",
       " (7355, 0.6877072),\n",
       " (1733, 0.6860013),\n",
       " (257, 0.65937334),\n",
       " (3609, 0.6487046)]"
      ]
     },
     "execution_count": 143,
     "metadata": {},
     "output_type": "execute_result"
    }
   ],
   "source": [
    "X_t = X.T.tocsr()\n",
    "recommendations = model.recommend(user_idx, X_t)\n",
    "\n",
    "recommendations"
   ]
  },
  {
   "cell_type": "code",
   "execution_count": 144,
   "metadata": {},
   "outputs": [
    {
     "name": "stdout",
     "output_type": "stream",
     "text": [
      "Lord of the Rings: The Two Towers, The (2002)\n",
      "Amelie (Fabuleux destin d'Amélie Poulain, Le) (2001)\n",
      "Matrix, The (1999)\n",
      "Shaun of the Dead (2004)\n",
      "City of God (Cidade de Deus) (2002)\n",
      "Catch Me If You Can (2002)\n",
      "Inception (2010)\n",
      "American History X (1998)\n",
      "Pulp Fiction (1994)\n",
      "Ocean's Eleven (2001)\n"
     ]
    }
   ],
   "source": [
    "for r in recommendations:\n",
    "    recommended_title = get_movie_title(r[0])\n",
    "    print(recommended_title)"
   ]
  },
  {
   "cell_type": "code",
   "execution_count": null,
   "metadata": {},
   "outputs": [],
   "source": []
  },
  {
   "cell_type": "code",
   "execution_count": null,
   "metadata": {},
   "outputs": [],
   "source": []
  }
 ],
 "metadata": {
  "kernelspec": {
   "display_name": "Python 3",
   "language": "python",
   "name": "python3"
  },
  "language_info": {
   "codemirror_mode": {
    "name": "ipython",
    "version": 3
   },
   "file_extension": ".py",
   "mimetype": "text/x-python",
   "name": "python",
   "nbconvert_exporter": "python",
   "pygments_lexer": "ipython3",
   "version": "3.7.6"
  }
 },
 "nbformat": 4,
 "nbformat_minor": 4
}
